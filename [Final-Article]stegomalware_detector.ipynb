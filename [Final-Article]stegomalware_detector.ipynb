{
 "cells": [
  {
   "cell_type": "code",
   "execution_count": 1,
   "metadata": {},
   "outputs": [],
   "source": [
    "#import\n",
    "import os\n",
    "import sys\n",
    "import numpy as np\n",
    "import tensorflow as tf\n",
    "import sklearn\n",
    "import glob\n",
    "import pandas as pd\n",
    "\n",
    "import matplotlib.pyplot as plt\n",
    "from PIL import Image\n",
    "from skimage.transform import resize\n",
    "\n",
    "from tensorflow.keras.callbacks import ModelCheckpoint, ReduceLROnPlateau\n",
    "from tensorflow.keras.optimizers import Adam, RMSprop\n",
    "\n",
    "from sklearn.metrics import *\n",
    "from sklearn.preprocessing import OneHotEncoder\n",
    "\n",
    "from stego_classifier_extended import *\n",
    "from stego_detector_extended import *\n",
    "import random as rn"
   ]
  },
  {
   "cell_type": "code",
   "execution_count": 2,
   "metadata": {},
   "outputs": [],
   "source": [
    "#Utils\n",
    "\n",
    "def extract_1_lsb_features(dataset):\n",
    "    lsb_training_set = dataset & 1\n",
    "    lsb_training_set = lsb_training_set.reshape(dataset.shape[0], dataset.shape[1]*dataset.shape[2]*dataset.shape[3])\n",
    "    return lsb_training_set\n",
    "\n",
    "#convert to binary\n",
    "def messageToBinary(message):\n",
    "  if type(message) == str:\n",
    "    return ''.join([ format(ord(i), \"08b\") for i in message ])\n",
    "  elif type(message) == bytes or type(message) == np.ndarray:\n",
    "    return [ format(i, \"08b\") for i in message ]\n",
    "  elif type(message) == int or type(message) == np.uint8:\n",
    "    return format(message, \"08b\")\n",
    "  else:\n",
    "    raise TypeError(\"Input type not supported\")\n",
    "  \n",
    "#extract k lsb for each channel\n",
    "def extract_k_lsb_features(data, k=4):\n",
    "    count = 0\n",
    "    lsb_training = []\n",
    "    for img in data:\n",
    "        count = count + 1\n",
    "        if count % 50 == 0:\n",
    "            print(count)\n",
    "        binary_data = []\n",
    "        for values in img:\n",
    "            for pixel in values:\n",
    "                r, g, b = messageToBinary(pixel)\n",
    "                for i in range(1,k+1):\n",
    "                    binary_data.append(int(r[-1-i+1]))  # extracting data from the least significant bit of red pixel\n",
    "                    binary_data.append(int(g[-1-i+1]))  # extracting data from the least significant bit of green pixel\n",
    "                    binary_data.append(int(b[-1-i+1]))  # extracting data from the least significant bit of blue pixel\n",
    "                # split by 8-bits\n",
    "\n",
    "        lsb_training.append(np.array(binary_data))\n",
    "        \n",
    "\n",
    "    return np.array(lsb_training)\n",
    "\n",
    "# load images in the image_path\n",
    "def load_images(image_path):\n",
    "    images = []\n",
    "    for f_name in sorted(glob.glob(image_path + '/*.png')):\n",
    "        img = np.asarray(Image.open(f_name).convert('RGB'))\n",
    "        images.append(img)\n",
    "    return images\n",
    "\n",
    "#convert an image into array\n",
    "def convert_np_array(vector):\n",
    "    result = []\n",
    "    for v in vector:\n",
    "        result.append(v)\n",
    "    return np.array(result)\n",
    "\n",
    "#laod data\n",
    "def load_data(main_data_folder, usage_folder_name, legit_folder_name, stego_folder_names):\n",
    "    \n",
    "    data_path = os.path.join(main_data_folder, usage_folder_name)\n",
    "    data_to_load = []\n",
    "    num_stego_images_for_class = []\n",
    "    data_to_load.append(convert_np_array(load_images(os.path.join(data_path,legit_folder_name))))\n",
    "    for stego_folder_name in stego_folder_names:\n",
    "        stego_images = convert_np_array(load_images(os.path.join(data_path,stego_folder_name)))\n",
    "        num_stego_images_for_class.append(stego_images.shape[0])\n",
    "        data_to_load.append(stego_images)\n",
    "\n",
    "    num_legit_images = data_to_load[0].shape[0]\n",
    "    print(\"#legit images\", data_to_load[0].shape[0])\n",
    "    print(\"#stego images\", num_stego_images_for_class)\n",
    "\n",
    "    data_to_load = np.concatenate(data_to_load)\n",
    "    print(\"data shape: \", data_to_load.shape)\n",
    "\n",
    "    print(\"done\")\n",
    "    \n",
    "    return data_to_load, num_legit_images, np.array(num_stego_images_for_class)\n",
    "\n",
    "#create target variable with labels\n",
    "def create_target_labels(legits, stego_type_number):\n",
    "    target = []\n",
    "    i = 0\n",
    "    target.append(np.zeros(legits, dtype=np.int8))\n",
    "    for current_stego in stego_type_number:\n",
    "        target.append(np.ones(current_stego, dtype=np.int8)+i)\n",
    "        i=i+1\n",
    "    return np.concatenate(target)\n",
    "\n",
    "#create target variable\n",
    "def create_target(legits, stegos):\n",
    "    y_legit = np.zeros(legits, dtype=np.int8)\n",
    "    y_stego = np.ones(stegos, dtype=np.int8)\n",
    "    return np.concatenate([y_legit, y_stego])\n",
    "\n",
    "def refresh_riproducibility(seed):\n",
    "   \n",
    "    #set seed \n",
    "\n",
    "    #Python SEED\n",
    "    os.environ['PYTHONHASHSEED'] = '0'\n",
    "    \n",
    "    #numpy seed\n",
    "    np.random.seed(seed)\n",
    "    \n",
    "    #tf seed\n",
    "    tf.random.set_seed(seed)\n",
    "    \n",
    "    #rn seed\n",
    "    rn.seed(seed)\n",
    "    \n",
    "    tf.config.threading.set_inter_op_parallelism_threads(1)\n",
    "    tf.config.threading.set_intra_op_parallelism_threads(1)\n",
    "    \n",
    "    #\n",
    "    from tensorflow.compat.v1.keras import backend as K\n",
    "    \n",
    "    #sess\n",
    "    sess = tf.compat.v1.get_default_session()\n",
    "    K.set_session(sess)\n",
    "    \n",
    "    #tf seed\n",
    "    tf.compat.v1.set_random_seed(seed)\n",
    "    \n",
    "    #os.environ['KERAS_BACKEND'] = \"tensorflow\"\n",
    "    os.environ['TF_DETERMINISTIC_OPS'] = '1'\n",
    "    os.environ['TF_CUDNN_DETERMINISTIC'] = '1'"
   ]
  },
  {
   "cell_type": "code",
   "execution_count": 3,
   "metadata": {},
   "outputs": [],
   "source": [
    "#Parameters ---------------------------\n",
    "\n",
    "#data_folder =  \"/\" # Debug data folder: \"./data/debug\"\n",
    "\n",
    "data_folder = \"./Dataset/dataset\"\n",
    "#data_folder = \"./Dataset/subsample\"\n",
    "legit_folder = 'legit'\n",
    "#stego_folders = ['LSB_stego_php','LSB_stego_url']\n",
    "stego_folders = ['LSB_stego_url','LSB_stego_eth','LSB_stego_html','LSB_stego_js','LSB_stego_ps']\n",
    "cwd = './'\n",
    "model_space = 'output/models-separate_k1'\n",
    "seed = 230782\n",
    "k_lsb = 1 # we use only 2-bits\n",
    "#------------------------------------"
   ]
  },
  {
   "cell_type": "markdown",
   "metadata": {},
   "source": [
    "## Stego Malware Detection Task"
   ]
  },
  {
   "cell_type": "code",
   "execution_count": 4,
   "metadata": {},
   "outputs": [
    {
     "name": "stdout",
     "output_type": "stream",
     "text": [
      "#legit images 4000\n",
      "#stego images [2412, 2473, 2284, 2363, 2468]\n",
      "data shape:  (16000, 512, 512, 3)\n",
      "done\n",
      "#training shape, neg, pos:  (16000, 512, 512, 3) 4000 12000\n",
      "#num classes:  6\n"
     ]
    }
   ],
   "source": [
    "#loading training set\n",
    "training_set, num_training_legit, num_training_stego_for_class  = load_data(data_folder, \"training\", legit_folder, stego_folders)\n",
    "num_training_stego = np.sum(num_training_stego_for_class)\n",
    "num_targets = len(num_training_stego_for_class)+1\n",
    "print(\"#training shape, neg, pos: \", training_set.shape, num_training_legit, num_training_stego)\n",
    "print(\"#num classes: \", num_targets)"
   ]
  },
  {
   "cell_type": "code",
   "execution_count": 5,
   "metadata": {},
   "outputs": [],
   "source": [
    "#lsb extraction\n",
    "training_set = extract_1_lsb_features(training_set)\n",
    "\n",
    "\n",
    "\n",
    "\n"
   ]
  },
  {
   "cell_type": "code",
   "execution_count": 6,
   "metadata": {},
   "outputs": [
    {
     "name": "stdout",
     "output_type": "stream",
     "text": [
      "training set ready\n"
     ]
    }
   ],
   "source": [
    "y_train = create_target(num_training_legit, num_training_stego)\n",
    "print(\"training set ready\")"
   ]
  },
  {
   "cell_type": "code",
   "execution_count": 7,
   "metadata": {},
   "outputs": [
    {
     "name": "stdout",
     "output_type": "stream",
     "text": [
      "#legit images 2000\n",
      "#stego images [1218, 1193, 1162, 1214, 1213]\n",
      "data shape:  (8000, 512, 512, 3)\n",
      "done\n",
      "#validation shape, neg, pos:  (8000, 512, 512, 3) 2000 6000\n",
      "validation set ready\n"
     ]
    }
   ],
   "source": [
    "#loading validation set\n",
    "validation, num_val_legit, num_val_stego_for_class  = load_data(data_folder, \"validation\", legit_folder, stego_folders)\n",
    "num_val_stego = np.sum(num_val_stego_for_class)\n",
    "print(\"#validation shape, neg, pos: \", validation.shape, num_val_legit, num_val_stego)\n",
    "\n",
    "#lsb extraction\n",
    "validation = extract_1_lsb_features(validation)\n",
    "y_val = create_target(num_val_legit, num_val_stego)\n",
    "print(\"validation set ready\")\n"
   ]
  },
  {
   "cell_type": "code",
   "execution_count": 8,
   "metadata": {},
   "outputs": [],
   "source": [
    "#init classifier\n",
    "#classifier = StegoClassifierExtended(training_set.shape[1], num_targets)\n",
    "#detector = StegoDetectorExtended(training_set.shape[1])\n",
    "\n",
    "#compile classifier\n",
    "#classifier.compile(loss='categorical_crossentropy', optimizer=RMSprop(learning_rate=1e-3), metrics=['accuracy'])\n",
    "#detector.compile(loss='binary_crossentropy', optimizer=RMSprop(learning_rate=1e-3), metrics=['accuracy'])\n",
    "\n",
    "#init callbacks\n",
    "#model_path = os.path.join(cwd, model_space, 'best_model_stego_classification')\n",
    "#print(\"best model path: \", model_path)\n",
    "#check = ModelCheckpoint(model_path, monitor='val_loss', verbose=0, save_best_only=True, save_weights_only=True, mode='min')\n"
   ]
  },
  {
   "cell_type": "code",
   "execution_count": 9,
   "metadata": {},
   "outputs": [],
   "source": [
    "#model_path = os.path.join(cwd, model_space, 'best_model_stego_detection')\n",
    "#print(\"best model path: \", model_path)\n",
    "#check = ModelCheckpoint(model_path, monitor='val_loss', verbose=0, save_best_only=True, save_weights_only=True, mode='min')\n",
    "#opt = ReduceLROnPlateau(monitor='val_loss', patience=3, min_lr=1e-9, factor=0.01, verbose=0)"
   ]
  },
  {
   "cell_type": "code",
   "execution_count": 10,
   "metadata": {},
   "outputs": [
    {
     "name": "stdout",
     "output_type": "stream",
     "text": [
      "WARNING:tensorflow:From /tmp/ipykernel_10414/683761624.py:120: The name tf.keras.backend.set_session is deprecated. Please use tf.compat.v1.keras.backend.set_session instead.\n",
      "\n",
      "best model path:  ./output/models-separate_k1/best_model_stego_detection\n"
     ]
    },
    {
     "name": "stderr",
     "output_type": "stream",
     "text": [
      "2022-06-10 11:57:03.829312: E tensorflow/stream_executor/cuda/cuda_driver.cc:271] failed call to cuInit: CUDA_ERROR_NO_DEVICE: no CUDA-capable device is detected\n",
      "2022-06-10 11:57:03.829343: I tensorflow/stream_executor/cuda/cuda_diagnostics.cc:169] retrieving CUDA diagnostic information for host: b44220ace66e\n",
      "2022-06-10 11:57:03.829351: I tensorflow/stream_executor/cuda/cuda_diagnostics.cc:176] hostname: b44220ace66e\n",
      "2022-06-10 11:57:03.829448: I tensorflow/stream_executor/cuda/cuda_diagnostics.cc:200] libcuda reported version is: 470.103.1\n",
      "2022-06-10 11:57:03.829576: I tensorflow/stream_executor/cuda/cuda_diagnostics.cc:204] kernel reported version is: 470.103.1\n",
      "2022-06-10 11:57:03.829586: I tensorflow/stream_executor/cuda/cuda_diagnostics.cc:310] kernel version seems to match DSO: 470.103.1\n",
      "2022-06-10 11:57:03.829840: I tensorflow/core/platform/cpu_feature_guard.cc:151] This TensorFlow binary is optimized with oneAPI Deep Neural Network Library (oneDNN) to use the following CPU instructions in performance-critical operations:  AVX2 FMA\n",
      "To enable them in other operations, rebuild TensorFlow with the appropriate compiler flags.\n",
      "2022-06-10 11:57:03.858979: W tensorflow/core/framework/cpu_allocator_impl.cc:82] Allocation of 12582912000 exceeds 10% of free system memory.\n",
      "2022-06-10 11:57:07.039738: W tensorflow/core/framework/cpu_allocator_impl.cc:82] Allocation of 12582912000 exceeds 10% of free system memory.\n"
     ]
    },
    {
     "name": "stdout",
     "output_type": "stream",
     "text": [
      "Epoch 1/20\n",
      "63/63 [==============================] - ETA: 0s - loss: 0.5934 - accuracy: 0.6546"
     ]
    },
    {
     "name": "stderr",
     "output_type": "stream",
     "text": [
      "2022-06-10 12:03:01.377031: W tensorflow/core/framework/cpu_allocator_impl.cc:82] Allocation of 6291456000 exceeds 10% of free system memory.\n",
      "2022-06-10 12:03:02.378655: W tensorflow/core/framework/cpu_allocator_impl.cc:82] Allocation of 6291456000 exceeds 10% of free system memory.\n"
     ]
    },
    {
     "name": "stdout",
     "output_type": "stream",
     "text": [
      "63/63 [==============================] - 374s 6s/step - loss: 0.5934 - accuracy: 0.6546 - val_loss: 0.4423 - val_accuracy: 0.7491 - lr: 0.0010\n",
      "Epoch 2/20\n",
      "63/63 [==============================] - ETA: 0s - loss: 0.4683 - accuracy: 0.7252"
     ]
    },
    {
     "name": "stderr",
     "output_type": "stream",
     "text": [
      "2022-06-10 12:09:08.622878: W tensorflow/core/framework/cpu_allocator_impl.cc:82] Allocation of 6291456000 exceeds 10% of free system memory.\n"
     ]
    },
    {
     "name": "stdout",
     "output_type": "stream",
     "text": [
      "63/63 [==============================] - 358s 6s/step - loss: 0.4683 - accuracy: 0.7252 - val_loss: 0.5081 - val_accuracy: 0.7326 - lr: 0.0010\n",
      "Epoch 3/20\n",
      "63/63 [==============================] - 350s 6s/step - loss: 0.4293 - accuracy: 0.7462 - val_loss: 0.5291 - val_accuracy: 0.7220 - lr: 0.0010\n",
      "Epoch 4/20\n",
      "63/63 [==============================] - 364s 6s/step - loss: 0.3843 - accuracy: 0.7906 - val_loss: 0.3331 - val_accuracy: 0.8384 - lr: 0.0010\n",
      "Epoch 5/20\n",
      "63/63 [==============================] - 356s 6s/step - loss: 0.3202 - accuracy: 0.8391 - val_loss: 0.4085 - val_accuracy: 0.7916 - lr: 0.0010\n",
      "Epoch 6/20\n",
      "63/63 [==============================] - 358s 6s/step - loss: 0.2540 - accuracy: 0.8832 - val_loss: 0.1954 - val_accuracy: 0.9391 - lr: 0.0010\n",
      "Epoch 7/20\n",
      "63/63 [==============================] - 338s 5s/step - loss: 0.1959 - accuracy: 0.9193 - val_loss: 0.2533 - val_accuracy: 0.8978 - lr: 0.0010\n",
      "Epoch 8/20\n",
      "63/63 [==============================] - 345s 5s/step - loss: 0.1515 - accuracy: 0.9392 - val_loss: 0.4137 - val_accuracy: 0.8599 - lr: 0.0010\n",
      "Epoch 9/20\n",
      "63/63 [==============================] - 348s 6s/step - loss: 0.1297 - accuracy: 0.9508 - val_loss: 0.3655 - val_accuracy: 0.8775 - lr: 0.0010\n",
      "Epoch 10/20\n",
      "63/63 [==============================] - 347s 6s/step - loss: 0.0843 - accuracy: 0.9693 - val_loss: 0.1327 - val_accuracy: 0.9770 - lr: 1.0000e-05\n",
      "Epoch 11/20\n",
      "63/63 [==============================] - 348s 6s/step - loss: 0.0567 - accuracy: 0.9854 - val_loss: 0.1323 - val_accuracy: 0.9833 - lr: 1.0000e-05\n",
      "Epoch 12/20\n",
      "63/63 [==============================] - 359s 6s/step - loss: 0.0444 - accuracy: 0.9897 - val_loss: 0.1465 - val_accuracy: 0.9803 - lr: 1.0000e-05\n",
      "Epoch 13/20\n",
      "63/63 [==============================] - 359s 6s/step - loss: 0.0355 - accuracy: 0.9926 - val_loss: 0.1412 - val_accuracy: 0.9859 - lr: 1.0000e-05\n",
      "Epoch 14/20\n",
      "63/63 [==============================] - 349s 6s/step - loss: 0.0297 - accuracy: 0.9946 - val_loss: 0.1417 - val_accuracy: 0.9884 - lr: 1.0000e-05\n",
      "Epoch 15/20\n",
      "63/63 [==============================] - 348s 6s/step - loss: 0.0286 - accuracy: 0.9951 - val_loss: 0.1305 - val_accuracy: 0.9918 - lr: 1.0000e-07\n",
      "Epoch 16/20\n",
      "63/63 [==============================] - 329s 5s/step - loss: 0.0278 - accuracy: 0.9947 - val_loss: 0.1262 - val_accuracy: 0.9939 - lr: 1.0000e-07\n",
      "Epoch 17/20\n",
      "63/63 [==============================] - 357s 6s/step - loss: 0.0274 - accuracy: 0.9956 - val_loss: 0.1238 - val_accuracy: 0.9950 - lr: 1.0000e-07\n",
      "Epoch 18/20\n",
      "63/63 [==============================] - 353s 6s/step - loss: 0.0280 - accuracy: 0.9946 - val_loss: 0.1229 - val_accuracy: 0.9954 - lr: 1.0000e-07\n",
      "Epoch 19/20\n",
      "63/63 [==============================] - 364s 6s/step - loss: 0.0276 - accuracy: 0.9954 - val_loss: 0.1228 - val_accuracy: 0.9955 - lr: 1.0000e-07\n",
      "Epoch 20/20\n",
      "63/63 [==============================] - 367s 6s/step - loss: 0.0288 - accuracy: 0.9944 - val_loss: 0.1224 - val_accuracy: 0.9956 - lr: 1.0000e-07\n",
      "Total Prediction Time:7140002\n"
     ]
    }
   ],
   "source": [
    "import time\n",
    "\n",
    "refresh_riproducibility(seed)\n",
    "\n",
    "#init classifier\n",
    "#classifier = StegoClassifierExtended(training_set.shape[1], num_targets)\n",
    "detector = StegoDetectorExtended(training_set.shape[1])\n",
    "\n",
    "#compile classifier\n",
    "#classifier.compile(loss='categorical_crossentropy', optimizer=RMSprop(learning_rate=1e-3), metrics=['accuracy'])\n",
    "detector.compile(loss='binary_crossentropy', optimizer=RMSprop(learning_rate=1e-3), metrics=['accuracy'])\n",
    "\n",
    "model_path = os.path.join(cwd, model_space, 'best_model_stego_detection')\n",
    "print(\"best model path: \", model_path)\n",
    "check = ModelCheckpoint(model_path, monitor='val_loss', verbose=0, save_best_only=True, save_weights_only=True, mode='min')\n",
    "opt = ReduceLROnPlateau(monitor='val_loss', patience=3, min_lr=1e-9, factor=0.01, verbose=0)\n",
    "\n",
    "\n",
    "\n",
    "\n",
    "\n",
    "\n",
    "start_time = int(round(time.time() * 1000))\n",
    "\n",
    "\n",
    "#training model\n",
    "history =   detector.fit(training_set, y_train, batch_size=256, epochs=20, \n",
    "                         validation_data=(validation, y_val), callbacks=[check, opt], verbose=1)\n",
    "\n",
    "#history =   detector.fit(training_set, y_train, batch_size=256, epochs=20, \n",
    "#                         validation_data=(training_set, y_train), callbacks=[check, opt], verbose=1)\n",
    "\n",
    "#training model\n",
    "#history = classifier.fit(training_set, ohe_y_train, batch_size=256, epochs=20, \n",
    "#                         validation_data=(validation, ohe_y_val), callbacks=[check, opt], verbose=1)\n",
    "\n",
    "end_time = int(round(time.time() * 1000))\n",
    "total_time = end_time - start_time\n",
    "#print(start_time)\n",
    "#print(end_time)\n",
    "print('Total Prediction Time:'+str(total_time))\n"
   ]
  },
  {
   "cell_type": "markdown",
   "metadata": {},
   "source": [
    "Total Prediction Time:360956 \\n\n",
    "Total Prediction Time:445351 \n",
    "--------------------------------\n",
    "Total Prediction Time:383511\n",
    "Total Prediction Time:483368"
   ]
  },
  {
   "cell_type": "code",
   "execution_count": 11,
   "metadata": {},
   "outputs": [
    {
     "name": "stdout",
     "output_type": "stream",
     "text": [
      "        Loss  epoch\n",
      "0   0.593369      1\n",
      "1   0.468309      2\n",
      "2   0.429312      3\n",
      "3   0.384317      4\n",
      "4   0.320199      5\n",
      "5   0.253961      6\n",
      "6   0.195914      7\n",
      "7   0.151467      8\n",
      "8   0.129726      9\n",
      "9   0.084342     10\n",
      "10  0.056660     11\n",
      "11  0.044403     12\n",
      "12  0.035460     13\n",
      "13  0.029731     14\n",
      "14  0.028556     15\n",
      "15  0.027773     16\n",
      "16  0.027441     17\n",
      "17  0.027997     18\n",
      "18  0.027579     19\n",
      "19  0.028830     20\n"
     ]
    }
   ],
   "source": [
    "type(history.history)\n",
    "his = history.history['loss']\n",
    "df_his = pd.DataFrame(data=his, columns=[\"Loss\"])\n",
    "df_his['epoch'] = range(1, len(df_his) + 1)\n",
    "print(df_his)"
   ]
  },
  {
   "cell_type": "code",
   "execution_count": 12,
   "metadata": {},
   "outputs": [
    {
     "name": "stdout",
     "output_type": "stream",
     "text": [
      "./output/models-separate_k1/history\n"
     ]
    }
   ],
   "source": [
    "#Save History\n",
    "file_history = os.path.join(cwd, model_space, 'history')\n",
    "print(file_history)\n",
    "np.save(file_history,history.history)\n",
    "\n",
    "# Load History\n",
    "#history_read=np.load(file_history+'.npy', allow_pickle='TRUE').item()\n",
    "#history_read"
   ]
  },
  {
   "cell_type": "code",
   "execution_count": 13,
   "metadata": {},
   "outputs": [
    {
     "name": "stderr",
     "output_type": "stream",
     "text": [
      "/home/bmsa/env-max/lib/python3.8/site-packages/seaborn/categorical.py:3717: UserWarning: The `factorplot` function has been renamed to `catplot`. The original name will be removed in a future release. Please update your code. Note that the default `kind` in `factorplot` (`'point'`) has changed `'strip'` in `catplot`.\n",
      "  warnings.warn(msg)\n",
      "/home/bmsa/env-max/lib/python3.8/site-packages/seaborn/categorical.py:3723: UserWarning: The `size` parameter has been renamed to `height`; please update your code.\n",
      "  warnings.warn(msg, UserWarning)\n"
     ]
    },
    {
     "data": {
      "image/png": "[encoded data removed]",
      "text/plain": [
       "<Figure size 432x288 with 1 Axes>"
      ]
     },
     "metadata": {},
     "output_type": "display_data"
    }
   ],
   "source": [
    "import seaborn as sns\n",
    "#print history loss\n",
    "sns.set()\n",
    "sns.set(style='whitegrid', font_scale = 1.2)\n",
    "#sns.set_style(\"darkgrid\")\n",
    "#sns.set_context(\"paper\")\n",
    "\n",
    "rc = {'axes.facecolor':'white',\n",
    "      'axes.grid' : True,\n",
    "      'grid.color': '.8',\n",
    "      #'font.family':'Times New Roman',\n",
    "      'font.height' : 16}\n",
    "#plt.rcParams.update(rc)\n",
    "#sns.set(font_scale = 1.1)\n",
    "\n",
    "g = sns.factorplot(x ='epoch', y ='Loss', data = df_his,\n",
    "               legend_out = False, size=4, aspect=1.5)\n",
    "g.set(yscale='log')\n",
    "#g.fig.subplots_adjust(top=0.95)\n",
    "g.fig.suptitle('Model Loss')\n",
    "\n",
    "g.axes[0,0].set_xlabel('Number of Epochs')\n",
    "plt.xticks([0,4,9,14,19,24]) \n",
    "plt.grid(True, which=\"both\",ls=\"-\",c='#D3D3D3')\n",
    "sns.despine(bottom = False, left = False, right=False, top=False)\n",
    "\n",
    "new_labels = ['Stego Classifier']\n",
    "plt.tight_layout() \n",
    "\n",
    "plt.savefig('output/training_loss.pdf')"
   ]
  },
  {
   "cell_type": "code",
   "execution_count": 14,
   "metadata": {},
   "outputs": [
    {
     "name": "stderr",
     "output_type": "stream",
     "text": [
      "/home/bmsa/env-max/lib/python3.8/site-packages/seaborn/categorical.py:3717: UserWarning: The `factorplot` function has been renamed to `catplot`. The original name will be removed in a future release. Please update your code. Note that the default `kind` in `factorplot` (`'point'`) has changed `'strip'` in `catplot`.\n",
      "  warnings.warn(msg)\n",
      "/home/bmsa/env-max/lib/python3.8/site-packages/seaborn/categorical.py:3723: UserWarning: The `size` parameter has been renamed to `height`; please update your code.\n",
      "  warnings.warn(msg, UserWarning)\n"
     ]
    },
    {
     "data": {
      "image/png": "[encoded data removed]",
      "text/plain": [
       "<Figure size 432x288 with 1 Axes>"
      ]
     },
     "metadata": {},
     "output_type": "display_data"
    }
   ],
   "source": [
    "g = sns.factorplot(x='epoch', y=\"Loss\", linestyles=[\"-\", \"--\",\"-\", \"--\"], markers=['.','x','v','+'], \n",
    "                   palette=\"Blues_d\", legend_out = False, data=df_his, size=4, aspect=1.5)\n",
    "type(g)\n",
    "\n",
    "g.fig.suptitle('Model Loss')\n",
    "\n",
    "g.axes[0,0].set_xlabel('Number of epochs')\n",
    "plt.xticks([0, 5, 10, 15, 20]) \n",
    "plt.grid(True, which=\"both\",ls=\"-\",c='#D3D3D3') \n",
    "sns.despine(bottom = False, left = False, right=False, top=False)\n",
    "\n",
    "\n",
    "\n",
    "new_labels = ['Stego Classifier']\n",
    "#for t, l in zip(g._legend.texts, new_labels):\n",
    "#    t.set_text(l)\n"
   ]
  },
  {
   "cell_type": "code",
   "execution_count": 15,
   "metadata": {},
   "outputs": [
    {
     "ename": "AttributeError",
     "evalue": "'Figure' object has no attribute 'set_title'",
     "traceback": [
      "\u001b[0;31m---------------------------------------------------------------------------\u001b[0m",
      "\u001b[0;31mAttributeError\u001b[0m                            Traceback (most recent call last)",
      "\u001b[0;32m/tmp/ipykernel_10414/1820363719.py\u001b[0m in \u001b[0;36m<module>\u001b[0;34m\u001b[0m\n\u001b[0;32m----> 1\u001b[0;31m \u001b[0mg\u001b[0m\u001b[0;34m.\u001b[0m\u001b[0mfig\u001b[0m\u001b[0;34m.\u001b[0m\u001b[0mset_title\u001b[0m\u001b[0;34m(\u001b[0m\u001b[0;34m\"Plot\"\u001b[0m\u001b[0;34m,\u001b[0m \u001b[0mfontsize\u001b[0m \u001b[0;34m=\u001b[0m \u001b[0;36m20\u001b[0m\u001b[0;34m)\u001b[0m\u001b[0;34m\u001b[0m\u001b[0;34m\u001b[0m\u001b[0m\n\u001b[0m\u001b[1;32m      2\u001b[0m \u001b[0mg\u001b[0m\u001b[0;34m.\u001b[0m\u001b[0mset_xlabel\u001b[0m\u001b[0;34m(\u001b[0m\u001b[0;34m\"Number of epoch\"\u001b[0m\u001b[0;34m)\u001b[0m\u001b[0;34m\u001b[0m\u001b[0;34m\u001b[0m\u001b[0m\n\u001b[1;32m      3\u001b[0m \u001b[0;31m#g.set_ylabel(\"loss\", fontsize = 20)\u001b[0m\u001b[0;34m\u001b[0m\u001b[0;34m\u001b[0m\u001b[0;34m\u001b[0m\u001b[0m\n\u001b[1;32m      4\u001b[0m \u001b[0;31m#g.set_title(\"Plot\", fontsize = 20)\u001b[0m\u001b[0;34m\u001b[0m\u001b[0;34m\u001b[0m\u001b[0;34m\u001b[0m\u001b[0m\n\u001b[1;32m      5\u001b[0m \u001b[0;34m\u001b[0m\u001b[0m\n",
      "\u001b[0;31mAttributeError\u001b[0m: 'Figure' object has no attribute 'set_title'"
     ],
     "output_type": "error"
    }
   ],
   "source": [
    "g.fig.set_title(\"Plot\", fontsize = 20)\n",
    "g.set_xlabel(\"Number of epoch\")\n",
    "#g.set_ylabel(\"loss\", fontsize = 20)\n",
    "#g.set_title(\"Plot\", fontsize = 20)\n",
    "\n",
    "#g.fig.get_axes()[0].set_yscale('log')\n",
    "plt.xticks([0, 5, 10, 15, 20]) \n",
    "plt.grid(True, which=\"both\",ls=\"-\",c='#D3D3D3') \n",
    "sns.despine(bottom = False, left = False, right=False, top=False)\n",
    "g.set_xlabels(\"Number of epochs\")\n",
    "\n",
    "#g._legend.set_title(\"\")\n",
    "new_labels = ['Stego Classifier']\n",
    "#for t, l in zip(g._legend.texts, new_labels):\n",
    "#    t.set_text(l)\n",
    "\n",
    "plt.tight_layout() \n",
    "\n",
    "plt.savefig('output/training_loss.pdf')"
   ]
  },
  {
   "cell_type": "code",
   "execution_count": null,
   "metadata": {},
   "outputs": [],
   "source": [
    "#reload best model\n",
    "detector.load_weights(model_path)"
   ]
  },
  {
   "cell_type": "code",
   "execution_count": null,
   "metadata": {},
   "outputs": [],
   "source": []
  },
  {
   "cell_type": "code",
   "execution_count": 16,
   "metadata": {},
   "outputs": [
    {
     "name": "stdout",
     "output_type": "stream",
     "text": [
      "#legit images 2000\n",
      "#stego images [1234, 1247, 1167, 1188, 1164]\n",
      "data shape:  (8000, 512, 512, 3)\n",
      "done\n",
      "#test shape, neg, pos:  (8000, 512, 512, 3) 2000 6000\n",
      "test set unseen ready\n"
     ]
    }
   ],
   "source": [
    "#loading test set plain\n",
    "test, num_test_legit, num_test_stego_for_class  = load_data(data_folder, \"test_plain\", legit_folder, stego_folders)\n",
    "num_test_stego = np.sum(num_test_stego_for_class)\n",
    "print(\"#test shape, neg, pos: \", test.shape, num_test_legit, num_test_stego)\n",
    "\n",
    "#lsb extraction\n",
    "test = extract_1_lsb_features(test)\n",
    "\n",
    "#create target\n",
    "\n",
    "y_test = create_target(num_test_legit, num_test_stego)\n",
    "print(\"test set unseen ready\")\n",
    "\n",
    "\n",
    "#print(\"#num examples for class:\")\n",
    "#(unique, counts) = np.unique(y_test, return_counts=True)\n",
    "#frequencies = np.asarray((unique, counts)).T\n",
    "#print(frequencies)\n",
    "#print(\"Apply OHE\")\n",
    "#ohe_y_test = ohe_processer.transform(np.reshape(y_test,(-1,1))).toarray()\n",
    "#print(\"test set ready\")"
   ]
  },
  {
   "cell_type": "code",
   "execution_count": 17,
   "metadata": {},
   "outputs": [
    {
     "data": {
      "text/plain": [
       "array([0, 0, 0, ..., 1, 1, 1], dtype=int8)"
      ]
     },
     "execution_count": 17,
     "metadata": {},
     "output_type": "execute_result"
    }
   ],
   "source": [
    "y_test"
   ]
  },
  {
   "cell_type": "code",
   "execution_count": 18,
   "metadata": {},
   "outputs": [
    {
     "name": "stdout",
     "output_type": "stream",
     "text": [
      "250/250 [==============================] - 42s 160ms/step\n",
      "acc;prec;rec;f1;auc;auc-pr\n",
      "0.99175;0.9994949494949495;0.9895;0.9944723618090452;0.9998479166666667;0.9999435265947455\n"
     ]
    }
   ],
   "source": [
    "y_pred_score = detector.predict(test)\n",
    "\n",
    "y_pred_label = np.around(y_pred_score, 0)\n",
    "\n",
    "report_map = classification_report(y_test, y_pred_label, output_dict=True)\n",
    "\n",
    "acc_score = accuracy_score(y_test, y_pred_label)\n",
    "\n",
    "auc_score = roc_auc_score(y_test, y_pred_score)\n",
    "\n",
    "pr1, rec1, thr1 = precision_recall_curve(y_test, y_pred_score)\n",
    "\n",
    "auc_score_pr = auc(rec1, pr1)\n",
    "\n",
    "result = str(acc_score)+\";\"+str(report_map['1']['precision']) + \";\" + str(\n",
    "        report_map['1']['recall']) + \";\" + str(report_map['1']['f1-score']) + \";\" + str(\n",
    "        auc_score) + \";\" + str(auc_score_pr)\n",
    "\n",
    "print(\"acc;prec;rec;f1;auc;auc-pr\")\n",
    "print(result)"
   ]
  },
  {
   "cell_type": "code",
   "execution_count": 19,
   "metadata": {},
   "outputs": [
    {
     "name": "stdout",
     "output_type": "stream",
     "text": [
      "#legit images 2000\n",
      "#stego images [1234, 1247, 1167, 1188, 1164]\n",
      "data shape:  (8000, 512, 512, 3)\n",
      "done\n",
      "#test shape, neg, pos:  (8000, 512, 512, 3) 2000 6000\n",
      "test set unseen ready\n"
     ]
    }
   ],
   "source": [
    "#loading test set b64\n",
    "test, num_test_legit, num_test_stego_for_class  = load_data(data_folder, \"test_b64\", legit_folder, stego_folders)\n",
    "\n",
    "num_test_stego = np.sum(num_test_stego_for_class)\n",
    "print(\"#test shape, neg, pos: \", test.shape, num_test_legit, num_test_stego)\n",
    "\n",
    "#lsb extraction\n",
    "test_b64 = extract_1_lsb_features(test)\n",
    "\n",
    "#create target\n",
    "\n",
    "y_test = create_target(num_test_legit, num_test_stego)\n",
    "print(\"test set unseen ready\")"
   ]
  },
  {
   "cell_type": "code",
   "execution_count": 20,
   "metadata": {
    "scrolled": true
   },
   "outputs": [
    {
     "name": "stdout",
     "output_type": "stream",
     "text": [
      "250/250 [==============================] - 55s 160ms/step\n",
      "acc;prec;rec;f1;auc;auc-pr\n",
      "0.9985;0.9994994994994995;0.9985;0.9989994997498749;0.9999379166666666;0.9999781130709715\n"
     ]
    }
   ],
   "source": [
    "y_pred_score = detector.predict(test_b64)\n",
    "\n",
    "y_pred_label = np.around(y_pred_score, 0)\n",
    "\n",
    "report_map = classification_report(y_test, y_pred_label, output_dict=True)\n",
    "\n",
    "acc_score = accuracy_score(y_test, y_pred_label)\n",
    "\n",
    "auc_score = roc_auc_score(y_test, y_pred_score)\n",
    "\n",
    "pr1, rec1, thr1 = precision_recall_curve(y_test, y_pred_score)\n",
    "\n",
    "auc_score_pr = auc(rec1, pr1)\n",
    "\n",
    "result = str(acc_score)+\";\"+str(report_map['1']['precision']) + \";\" + str(\n",
    "        report_map['1']['recall']) + \";\" + str(report_map['1']['f1-score']) + \";\" + str(\n",
    "        auc_score) + \";\" + str(auc_score_pr)\n",
    "\n",
    "print(\"acc;prec;rec;f1;auc;auc-pr\")\n",
    "print(result)"
   ]
  },
  {
   "cell_type": "code",
   "execution_count": 21,
   "metadata": {},
   "outputs": [
    {
     "name": "stdout",
     "output_type": "stream",
     "text": [
      "#legit images 2000\n",
      "#stego images [1234, 1247, 1167, 1188, 1164]\n",
      "data shape:  (8000, 512, 512, 3)\n",
      "done\n",
      "#test shape, neg, pos:  (8000, 512, 512, 3) 2000 6000\n",
      "test set unseen ready\n"
     ]
    }
   ],
   "source": [
    "#loading test set zip\n",
    "test, num_test_legit, num_test_stego_for_class  = load_data(data_folder, \"test_zip\", legit_folder, stego_folders)\n",
    "\n",
    "num_test_stego = np.sum(num_test_stego_for_class)\n",
    "print(\"#test shape, neg, pos: \", test.shape, num_test_legit, num_test_stego)\n",
    "\n",
    "#lsb extraction\n",
    "test_zip = extract_1_lsb_features(test)\n",
    "\n",
    "#create target\n",
    "\n",
    "y_test = create_target(num_test_legit, num_test_stego)\n",
    "print(\"test set unseen ready\")"
   ]
  },
  {
   "cell_type": "code",
   "execution_count": 22,
   "metadata": {},
   "outputs": [
    {
     "name": "stdout",
     "output_type": "stream",
     "text": [
      "250/250 [==============================] - 59s 162ms/step\n",
      "acc;prec;rec;f1;auc;auc-pr\n",
      "0.999625;0.9995002498750625;1.0;0.9997500624843789;0.9999985;0.9999994993320644\n"
     ]
    }
   ],
   "source": [
    "y_pred_score = detector.predict(test_zip)\n",
    "\n",
    "y_pred_label = np.around(y_pred_score, 0)\n",
    "\n",
    "report_map = classification_report(y_test, y_pred_label, output_dict=True)\n",
    "\n",
    "acc_score = accuracy_score(y_test, y_pred_label)\n",
    "\n",
    "auc_score = roc_auc_score(y_test, y_pred_score)\n",
    "\n",
    "pr1, rec1, thr1 = precision_recall_curve(y_test, y_pred_score)\n",
    "\n",
    "auc_score_pr = auc(rec1, pr1)\n",
    "\n",
    "result = str(acc_score)+\";\"+str(report_map['1']['precision']) + \";\" + str(\n",
    "        report_map['1']['recall']) + \";\" + str(report_map['1']['f1-score']) + \";\" + str(\n",
    "        auc_score) + \";\" + str(auc_score_pr)\n",
    "\n",
    "print(\"acc;prec;rec;f1;auc;auc-pr\")\n",
    "print(result)"
   ]
  },
  {
   "cell_type": "code",
   "execution_count": null,
   "metadata": {},
   "outputs": [],
   "source": []
  }
 ],
 "metadata": {
  "kernelspec": {
   "display_name": "Python 3 (ipykernel)",
   "language": "python",
   "name": "python3"
  },
  "language_info": {
   "codemirror_mode": {
    "name": "ipython",
    "version": 3
   },
   "file_extension": ".py",
   "mimetype": "text/x-python",
   "name": "python",
   "nbconvert_exporter": "python",
   "pygments_lexer": "ipython3",
   "version": "3.8.10"
  }
 },
 "nbformat": 4,
 "nbformat_minor": 1
}
